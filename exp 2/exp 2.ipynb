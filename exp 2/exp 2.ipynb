{
 "cells": [
  {
   "cell_type": "code",
   "execution_count": 12,
   "id": "5498d1ea-c8e2-45dc-8d1b-b670d34ae69d",
   "metadata": {},
   "outputs": [],
   "source": [
    "import numpy as np\n",
    "import pandas as pd"
   ]
  },
  {
   "cell_type": "code",
   "execution_count": 13,
   "id": "1bdbc1e4-45f4-4c6e-97ae-1e4e44955e06",
   "metadata": {},
   "outputs": [
    {
     "name": "stdout",
     "output_type": "stream",
     "text": [
      "     sky air temp humidity    wind water forecast enjoy sport\n",
      "0  sunny     warm   normal  strong  warm    same          yes\n",
      "1  sunny     warm     high  strong  warm    same          yes\n",
      "2  rainy     cold     high  strong  warm   change          no\n",
      "3  sunny     warm     high  strong  cool   change         yes\n"
     ]
    }
   ],
   "source": [
    "data = pd.DataFrame(data=pd.read_csv('Book1.csv'))\n",
    "print(data)"
   ]
  },
  {
   "cell_type": "code",
   "execution_count": 14,
   "id": "b525e3a2-72e1-4f54-b433-de999a657777",
   "metadata": {},
   "outputs": [
    {
     "name": "stdout",
     "output_type": "stream",
     "text": [
      "[['sunny' 'warm' 'normal' 'strong' 'warm' 'same ']\n",
      " ['sunny' 'warm' 'high' 'strong' 'warm' 'same ']\n",
      " ['rainy' 'cold' 'high' 'strong' 'warm' 'change']\n",
      " ['sunny' 'warm' 'high' 'strong' 'cool' 'change']]\n"
     ]
    }
   ],
   "source": [
    "concepts =np.array(data.iloc[:,0:-1])\n",
    "print(concepts)"
   ]
  },
  {
   "cell_type": "code",
   "execution_count": 15,
   "id": "76011398-3240-425b-bbfe-2cf11590c116",
   "metadata": {},
   "outputs": [
    {
     "name": "stdout",
     "output_type": "stream",
     "text": [
      "['yes' 'yes' 'no' 'yes']\n"
     ]
    }
   ],
   "source": [
    "target=np.array(data.iloc[:,-1])\n",
    "print(target)"
   ]
  },
  {
   "cell_type": "code",
   "execution_count": 20,
   "id": "dbb7be29-0ecd-44f4-92e9-b16574c18407",
   "metadata": {},
   "outputs": [],
   "source": [
    "def learn(concepts,target):\n",
    "    '''\n",
    "    learn() function impliments the learning method of the candidate elimination algorithm.\n",
    "    Arguments:\n",
    "        concepts- a data frame with all the features\n",
    "        target- a data frame with corresponding outpit values\n",
    "    '''\n",
    "    #Initialize S0 with the first instance from concepts\\\n",
    "    #.copy() makes sure a new list is created instead of just pointing to the same memory location\n",
    "    specific_h = concepts[0].copy()\n",
    "    print(\"\\nInitialization of specific_h and general_h\")\n",
    "    print(specific_h)\n",
    "\n",
    "    general_h=[[\"?\" for i in range(len(specific_h))] for i in range(len(specific_h))]\n",
    "    print(general_h)\n",
    "    #The Learning Iterations\n",
    "    for i, h in enumerate(concepts):\n",
    "        #Checking if the hypothesis has a positive target\n",
    "        if target[i]==\"yes\":\n",
    "            for x in range (len(specific_h)):\n",
    "\n",
    "                #Change value in S & G only if values change\n",
    "                if h[x] != specific_h[x]:\n",
    "                    specific_h[x]='?'\n",
    "                    general_h[x][x]='?'\n",
    "\n",
    "\n",
    "        #Checking if the hypothesis has a negative target\n",
    "        if target[i]==\"no\":\n",
    "            for x in range(len(specific_h)):\n",
    "                #for negative hypothesis change values only in 6\n",
    "                if h[x] != specific_h[x]:\n",
    "                    general_h[x][x]=specific_h[x]\n",
    "                else:\n",
    "                    general_h[x][x]='?'\n",
    "        print(\"\\nSteps of Elimination Algorithm\",i+1)\n",
    "        print(specific_h)\n",
    "        print(general_h)\n",
    "\n",
    "    #find indices where we have empty rows, meaning those that are unchanged \n",
    "    indices=[i for i, val in enumerate(general_h) if val ==['?','?','?','?','?','?']]\n",
    "    for i in indices:\n",
    "        #remove those rows from general_h\n",
    "        general_h.remove(['?','?','?','?','?','?'])\n",
    "    #Return final values\n",
    "    return specific_h,general_h"
   ]
  },
  {
   "cell_type": "code",
   "execution_count": 21,
   "id": "496bd349-3343-41f3-bf75-142b7017af5d",
   "metadata": {},
   "outputs": [
    {
     "name": "stdout",
     "output_type": "stream",
     "text": [
      "\n",
      "Initialization of specific_h and general_h\n",
      "['sunny' 'warm' 'normal' 'strong' 'warm' 'same ']\n",
      "[['?', '?', '?', '?', '?', '?'], ['?', '?', '?', '?', '?', '?'], ['?', '?', '?', '?', '?', '?'], ['?', '?', '?', '?', '?', '?'], ['?', '?', '?', '?', '?', '?'], ['?', '?', '?', '?', '?', '?']]\n",
      "\n",
      "Steps of Elimination Algorithm 1\n",
      "['sunny' 'warm' 'normal' 'strong' 'warm' 'same ']\n",
      "[['?', '?', '?', '?', '?', '?'], ['?', '?', '?', '?', '?', '?'], ['?', '?', '?', '?', '?', '?'], ['?', '?', '?', '?', '?', '?'], ['?', '?', '?', '?', '?', '?'], ['?', '?', '?', '?', '?', '?']]\n",
      "\n",
      "Steps of Elimination Algorithm 2\n",
      "['sunny' 'warm' '?' 'strong' 'warm' 'same ']\n",
      "[['?', '?', '?', '?', '?', '?'], ['?', '?', '?', '?', '?', '?'], ['?', '?', '?', '?', '?', '?'], ['?', '?', '?', '?', '?', '?'], ['?', '?', '?', '?', '?', '?'], ['?', '?', '?', '?', '?', '?']]\n",
      "\n",
      "Steps of Elimination Algorithm 3\n",
      "['sunny' 'warm' '?' 'strong' 'warm' 'same ']\n",
      "[['sunny', '?', '?', '?', '?', '?'], ['?', 'warm', '?', '?', '?', '?'], ['?', '?', '?', '?', '?', '?'], ['?', '?', '?', '?', '?', '?'], ['?', '?', '?', '?', '?', '?'], ['?', '?', '?', '?', '?', 'same ']]\n",
      "\n",
      "Steps of Elimination Algorithm 4\n",
      "['sunny' 'warm' '?' 'strong' '?' '?']\n",
      "[['sunny', '?', '?', '?', '?', '?'], ['?', 'warm', '?', '?', '?', '?'], ['?', '?', '?', '?', '?', '?'], ['?', '?', '?', '?', '?', '?'], ['?', '?', '?', '?', '?', '?'], ['?', '?', '?', '?', '?', '?']]\n",
      "\n",
      "Final Specific_h:\n",
      "['sunny' 'warm' '?' 'strong' '?' '?']\n",
      "\n",
      "Final General_h:\n",
      "[['sunny', '?', '?', '?', '?', '?'], ['?', 'warm', '?', '?', '?', '?']]\n"
     ]
    }
   ],
   "source": [
    "s_final,g_final = learn(concepts,target)\n",
    "print(\"\\nFinal Specific_h:\",s_final,sep=\"\\n\")\n",
    "print(\"\\nFinal General_h:\",g_final,sep=\"\\n\")"
   ]
  },
  {
   "cell_type": "code",
   "execution_count": null,
   "id": "5d585dc6-b60a-4606-9189-d3105222aa50",
   "metadata": {},
   "outputs": [],
   "source": []
  }
 ],
 "metadata": {
  "kernelspec": {
   "display_name": "Python 3 (ipykernel)",
   "language": "python",
   "name": "python3"
  },
  "language_info": {
   "codemirror_mode": {
    "name": "ipython",
    "version": 3
   },
   "file_extension": ".py",
   "mimetype": "text/x-python",
   "name": "python",
   "nbconvert_exporter": "python",
   "pygments_lexer": "ipython3",
   "version": "3.12.5"
  }
 },
 "nbformat": 4,
 "nbformat_minor": 5
}

{
 "cells": [
  {
   "cell_type": "code",
   "execution_count": 3,
   "id": "5154b78b-86dd-4c7e-ad48-b9e62389844f",
   "metadata": {},
   "outputs": [
    {
     "name": "stdout",
     "output_type": "stream",
     "text": [
      "\n",
      " The Given Training Data Set\n",
      "\n",
      "['sunny', 'warm', 'normal', 'strong', 'warm', 'same ', 'yes']\n",
      "['sunny', 'warm', 'high', 'strong', 'warm', 'same ', 'yes']\n",
      "['rainy', 'cold', 'high', 'strong', 'warm', 'change', 'no']\n",
      "['sunny', 'warm', 'high', 'strong', 'cool', 'change', 'yes']\n",
      "\n",
      " The initial value of hypothesis:\n",
      "['0', '0', '0', '0', '0', '0']\n",
      "\n",
      " Find S: Finding a maximally Specific Hypothesis\n",
      "\n",
      "for Training instance No:1 the hypothesis is ['sunny', 'warm', 'normal', 'strong', 'warm', 'same ']\n",
      "for Training instance No:2 the hypothesis is ['sunny', 'warm', 'normal', 'strong', 'warm', 'same ']\n",
      "for Training instance No:4 the hypothesis is ['sunny', 'warm', 'normal', 'strong', 'warm', 'same ']\n",
      "\n",
      " The Maximally Specific Hypothesis for a given Training Example:\n",
      "\n",
      "['sunny', 'warm', 'normal', 'strong', 'warm', 'same ']\n"
     ]
    }
   ],
   "source": [
    "import csv\n",
    "num_attributes=6\n",
    "a=[]\n",
    "print(\"\\n The Given Training Data Set\\n\")\n",
    "with open ('Book1.csv','r') as csvfile:\n",
    "    reader = csv.reader(csvfile)\n",
    "    for row in reader:\n",
    "        a.append(row)\n",
    "        print(row)\n",
    "\n",
    "print(\"\\n The initial value of hypothesis:\")\n",
    "hypothesis=['0']*num_attributes\n",
    "print(hypothesis)\n",
    "\n",
    "#initialize hypothesis with the first positiveexamples\n",
    "for j in range(0,num_attributes):\n",
    "    hypothesis[j]=a[0][j]\n",
    "\n",
    "print(\"\\n Find S: Finding a maximally Specific Hypothesis\\n\")\n",
    "\n",
    "for i in range(0,len(a)):\n",
    "    if a[i][num_attributes] =='yes': #consider only positive examples\n",
    "        for j in range(0,num_attributes):\n",
    "            if a[i][j] != hypothesis[j]:\n",
    "                hypothesis[j]:'?'\n",
    "            else:\n",
    "                hypothesis[j]=a[i][j]\n",
    "                #changes training instance number from(i) to(i+1)\n",
    "        print(\"for Training instance No:{0} the hypothesis is\".format(i+1),hypothesis)\n",
    "\n",
    "print(\"\\n The Maximally Specific Hypothesis for a given Training Example:\\n\")\n",
    "print(hypothesis)"
   ]
  },
  {
   "cell_type": "code",
   "execution_count": null,
   "id": "8bf01121-d3b6-4187-907c-3f2b3df5230c",
   "metadata": {},
   "outputs": [],
   "source": []
  },
  {
   "cell_type": "code",
   "execution_count": null,
   "id": "eec5f8f9-202d-4100-a4f9-c5150eb3731d",
   "metadata": {},
   "outputs": [],
   "source": []
  }
 ],
 "metadata": {
  "kernelspec": {
   "display_name": "Python 3 (ipykernel)",
   "language": "python",
   "name": "python3"
  },
  "language_info": {
   "codemirror_mode": {
    "name": "ipython",
    "version": 3
   },
   "file_extension": ".py",
   "mimetype": "text/x-python",
   "name": "python",
   "nbconvert_exporter": "python",
   "pygments_lexer": "ipython3",
   "version": "3.12.5"
  }
 },
 "nbformat": 4,
 "nbformat_minor": 5
}
